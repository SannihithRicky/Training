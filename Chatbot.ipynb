{
  "nbformat": 4,
  "nbformat_minor": 0,
  "metadata": {
    "colab": {
      "provenance": [],
      "gpuType": "T4",
      "authorship_tag": "ABX9TyNK8bDUC9HEJ3Y2MFcPe2Dj",
      "include_colab_link": true
    },
    "kernelspec": {
      "name": "python3",
      "display_name": "Python 3"
    },
    "language_info": {
      "name": "python"
    },
    "accelerator": "GPU"
  },
  "cells": [
    {
      "cell_type": "markdown",
      "metadata": {
        "id": "view-in-github",
        "colab_type": "text"
      },
      "source": [
        "<a href=\"https://colab.research.google.com/github/SannihithRicky/Training/blob/main/Chatbot.ipynb\" target=\"_parent\"><img src=\"https://colab.research.google.com/assets/colab-badge.svg\" alt=\"Open In Colab\"/></a>"
      ]
    },
    {
      "cell_type": "code",
      "execution_count": 5,
      "metadata": {
        "colab": {
          "base_uri": "https://localhost:8080/"
        },
        "id": "QT9WgAMzIOzw",
        "outputId": "16677af4-7cba-4efd-82f0-eda6224f4b49"
      },
      "outputs": [
        {
          "name": "stdout",
          "output_type": "stream",
          "text": [
            "SenTence\n"
          ]
        }
      ],
      "source": [
        "sentence = input()"
      ]
    },
    {
      "cell_type": "code",
      "source": [
        "exit_words = ['escape','quit','stop','exit']"
      ],
      "metadata": {
        "id": "v2E9hzmOIlTP"
      },
      "execution_count": 4,
      "outputs": []
    },
    {
      "cell_type": "code",
      "source": [
        "def lowercase(sent):\n",
        "  return sent.lower()"
      ],
      "metadata": {
        "id": "FPSyQWNRI4Ws"
      },
      "execution_count": 6,
      "outputs": []
    },
    {
      "cell_type": "code",
      "source": [
        "x = lowercase(sentence)"
      ],
      "metadata": {
        "id": "Ogy9kRyEKAc_"
      },
      "execution_count": 7,
      "outputs": []
    },
    {
      "cell_type": "code",
      "source": [
        "x"
      ],
      "metadata": {
        "colab": {
          "base_uri": "https://localhost:8080/",
          "height": 36
        },
        "id": "cV55iwAYKQvZ",
        "outputId": "1e9215c3-cdad-448b-a8ae-3c5844152bd3"
      },
      "execution_count": 8,
      "outputs": [
        {
          "output_type": "execute_result",
          "data": {
            "text/plain": [
              "'sentence'"
            ],
            "application/vnd.google.colaboratory.intrinsic+json": {
              "type": "string"
            }
          },
          "metadata": {},
          "execution_count": 8
        }
      ]
    },
    {
      "cell_type": "code",
      "source": [
        "def uppercase(sent):\n",
        "  return sent.upper()"
      ],
      "metadata": {
        "id": "1npU42HwKRoP"
      },
      "execution_count": 9,
      "outputs": []
    },
    {
      "cell_type": "code",
      "source": [
        "uppercase('oikumjynhtbgrdnfhj')"
      ],
      "metadata": {
        "colab": {
          "base_uri": "https://localhost:8080/",
          "height": 36
        },
        "id": "QO9FvrotLyWC",
        "outputId": "26866749-5ef4-4f60-c67c-b84483093a77"
      },
      "execution_count": 10,
      "outputs": [
        {
          "output_type": "execute_result",
          "data": {
            "text/plain": [
              "'OIKUMJYNHTBGRDNFHJ'"
            ],
            "application/vnd.google.colaboratory.intrinsic+json": {
              "type": "string"
            }
          },
          "metadata": {},
          "execution_count": 10
        }
      ]
    },
    {
      "cell_type": "code",
      "source": [
        "def swapcase(sent):\n",
        "  return sent.swapcase()"
      ],
      "metadata": {
        "id": "DlPLj2nYPcYM"
      },
      "execution_count": 15,
      "outputs": []
    },
    {
      "cell_type": "code",
      "source": [
        "def stopwords(sent):\n",
        "  return sent.stopwords()"
      ],
      "metadata": {
        "id": "mIX72fmFPuM6"
      },
      "execution_count": 16,
      "outputs": []
    },
    {
      "cell_type": "code",
      "source": [
        "x = input()\n",
        "while x not in exit_words:\n",
        "  choice = input(\"You got four options, 1,2,3 and 4: \")\n",
        "  if choice == '1':\n",
        "    print(lowercase(x))\n",
        "  elif choice == '2':\n",
        "    print(uppercase(x))\n",
        "  elif choice == '3':\n",
        "    print(swapcase(x))\n",
        "  elif choice == '4':\n",
        "    print(stopwords(x))\n",
        "  else:\n",
        "    print(\"Invalid choice\")\n",
        "  x = input()\n"
      ],
      "metadata": {
        "colab": {
          "base_uri": "https://localhost:8080/"
        },
        "id": "QNUSbzCkL3q7",
        "outputId": "c55d8a7b-2a95-42bc-b002-e1a1c78bf9a3"
      },
      "execution_count": 18,
      "outputs": [
        {
          "name": "stdout",
          "output_type": "stream",
          "text": [
            "SenTENCE\n",
            "You got four options, 1,2,3 and 4: 3\n",
            "sENtence\n",
            "exit\n"
          ]
        }
      ]
    },
    {
      "cell_type": "code",
      "source": [],
      "metadata": {
        "id": "ivTNqoGRNkKJ"
      },
      "execution_count": null,
      "outputs": []
    }
  ]
}