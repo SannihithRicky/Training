{
  "nbformat": 4,
  "nbformat_minor": 0,
  "metadata": {
    "colab": {
      "provenance": [],
      "gpuType": "T4",
      "authorship_tag": "ABX9TyOXQsDK3Xl3JioTrXJDq4Sb",
      "include_colab_link": true
    },
    "kernelspec": {
      "name": "python3",
      "display_name": "Python 3"
    },
    "language_info": {
      "name": "python"
    },
    "accelerator": "GPU"
  },
  "cells": [
    {
      "cell_type": "markdown",
      "metadata": {
        "id": "view-in-github",
        "colab_type": "text"
      },
      "source": [
        "<a href=\"https://colab.research.google.com/github/SannihithRicky/Training/blob/main/Python_basics.ipynb\" target=\"_parent\"><img src=\"https://colab.research.google.com/assets/colab-badge.svg\" alt=\"Open In Colab\"/></a>"
      ]
    },
    {
      "cell_type": "code",
      "execution_count": 1,
      "metadata": {
        "id": "nEoMKJVnv6LV",
        "colab": {
          "base_uri": "https://localhost:8080/"
        },
        "outputId": "fa2fae08-e038-4f65-a5d2-8ef7cc971da4"
      },
      "outputs": [
        {
          "output_type": "stream",
          "name": "stdout",
          "text": [
            "[360.]\n"
          ]
        }
      ],
      "source": [
        "from sklearn.linear_model import LinearRegression\n",
        "from sklearn.model_selection import train_test_split\n",
        "years = [[2015], [2016], [2017], [2018], [2019], [2020]]\n",
        "values = [200, 220, 240, 260, 280, 300]\n",
        "years_train, years_test, values_train, values_test = train_test_split(years, values, test_size=0.2, random_state=42)\n",
        "model = LinearRegression()\n",
        "model.fit(years_train, values_train)\n",
        "future_years = [[2023]]\n",
        "predicted_values = model.predict(future_years)\n",
        "print(predicted_values)"
      ]
    },
    {
      "cell_type": "code",
      "source": [
        "import nltk\n",
        "nltk.download('all')\n",
        ""
      ],
      "metadata": {
        "id": "fsYY4AkNwwtJ"
      },
      "execution_count": null,
      "outputs": []
    }
  ]
}