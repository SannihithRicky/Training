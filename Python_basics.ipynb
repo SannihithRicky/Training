{
  "nbformat": 4,
  "nbformat_minor": 0,
  "metadata": {
    "colab": {
      "provenance": [],
      "gpuType": "T4",
      "authorship_tag": "ABX9TyNNlL8BXVaz/ypPBa4dluCl",
      "include_colab_link": true
    },
    "kernelspec": {
      "name": "python3",
      "display_name": "Python 3"
    },
    "language_info": {
      "name": "python"
    },
    "accelerator": "GPU"
  },
  "cells": [
    {
      "cell_type": "markdown",
      "metadata": {
        "id": "view-in-github",
        "colab_type": "text"
      },
      "source": [
        "<a href=\"https://colab.research.google.com/github/SannihithRicky/Training/blob/main/Python_basics.ipynb\" target=\"_parent\"><img src=\"https://colab.research.google.com/assets/colab-badge.svg\" alt=\"Open In Colab\"/></a>"
      ]
    },
    {
      "cell_type": "code",
      "execution_count": null,
      "metadata": {
        "id": "nEoMKJVnv6LV"
      },
      "outputs": [],
      "source": [
        "#What are python's variable naming conventions?\n",
        "#What happens when you assign a value to a variable that has the same name as a built in function?\n",
        "#can variables in python hold different types of values at different times? Show an example?\n",
        "#What is the difference between local and global variables?"
      ]
    },
    {
      "cell_type": "code",
      "source": [
        "list = ['does',9,'it',2.08,'work']\n",
        "print(list);"
      ],
      "metadata": {
        "id": "rb1YSP9-0Mqo",
        "colab": {
          "base_uri": "https://localhost:8080/"
        },
        "outputId": "683907ba-5c92-4e11-f42b-918d8b9bc892"
      },
      "execution_count": null,
      "outputs": [
        {
          "output_type": "stream",
          "name": "stdout",
          "text": [
            "['does', 9, 'it', 2.08, 'work']\n"
          ]
        }
      ]
    },
    {
      "cell_type": "code",
      "source": [
        "r = [1,4,0,4]\n",
        "c = [2,5,0,4]\n",
        "s = r+c\n",
        "print(s)"
      ],
      "metadata": {
        "colab": {
          "base_uri": "https://localhost:8080/"
        },
        "id": "hknMF5Go53gq",
        "outputId": "d660718b-1b18-4e1c-ecae-2dac90a17951"
      },
      "execution_count": null,
      "outputs": [
        {
          "output_type": "stream",
          "name": "stdout",
          "text": [
            "[1, 4, 0, 4, 2, 5, 0, 4]\n"
          ]
        }
      ]
    },
    {
      "cell_type": "code",
      "source": [
        "z = [1,4,0,9,2,5]\n",
        "z[1:3]"
      ],
      "metadata": {
        "colab": {
          "base_uri": "https://localhost:8080/"
        },
        "id": "FuI-63AZ7G3d",
        "outputId": "bf592b38-58c8-42c8-9eed-9664b52fa993"
      },
      "execution_count": null,
      "outputs": [
        {
          "output_type": "execute_result",
          "data": {
            "text/plain": [
              "[4, 0]"
            ]
          },
          "metadata": {},
          "execution_count": 8
        }
      ]
    },
    {
      "cell_type": "code",
      "source": [
        "r = [1,4,0,4]\n",
        "c = [2,5,0,4]\n",
        "h = 5\n",
        "j = r+c\n",
        "print(j)\n",
        "print(len(j))\n",
        "i = h*c\n",
        "print(i)\n",
        "print(len(i))"
      ],
      "metadata": {
        "colab": {
          "base_uri": "https://localhost:8080/"
        },
        "id": "ea0ZKiFx8_2K",
        "outputId": "45b353a0-03f9-4ff6-883c-fa1a1f355cf9"
      },
      "execution_count": null,
      "outputs": [
        {
          "output_type": "stream",
          "name": "stdout",
          "text": [
            "[1, 4, 0, 4, 2, 5, 0, 4]\n",
            "8\n",
            "[2, 5, 0, 4, 2, 5, 0, 4, 2, 5, 0, 4, 2, 5, 0, 4, 2, 5, 0, 4]\n",
            "20\n"
          ]
        }
      ]
    },
    {
      "cell_type": "code",
      "source": [
        "a = [1,4,9]\n",
        "b = a[:]\n",
        "print(b)"
      ],
      "metadata": {
        "colab": {
          "base_uri": "https://localhost:8080/"
        },
        "id": "8A7kkvs99fLq",
        "outputId": "8ba69e92-b413-4c74-9cd6-5f2b6a59cec7"
      },
      "execution_count": null,
      "outputs": [
        {
          "output_type": "stream",
          "name": "stdout",
          "text": [
            "[1, 4, 9]\n"
          ]
        }
      ]
    },
    {
      "cell_type": "code",
      "source": [
        "from typing import List\n",
        "\n",
        "my_int = 42\n",
        "my_list = [1, 'Hello', 3.14, True]\n",
        "\n",
        "print(\"Original List:\", my_list)\n",
        "\n",
        "my_list.append('World')\n",
        "print(\"List after appending 'World':\", my_list)\n",
        "\n",
        "my_list.remove(3.14)\n",
        "print(\"List after removing 3.14:\", my_list)\n"
      ],
      "metadata": {
        "id": "crjo05gB-jou",
        "colab": {
          "base_uri": "https://localhost:8080/"
        },
        "outputId": "1d6befc0-1833-4927-e74d-8c496e2ad531"
      },
      "execution_count": null,
      "outputs": [
        {
          "output_type": "stream",
          "name": "stdout",
          "text": [
            "Original List: [1, 'Hello', 3.14, True]\n",
            "List after appending 'World': [1, 'Hello', 3.14, True, 'World']\n",
            "List after removing 3.14: [1, 'Hello', True, 'World']\n"
          ]
        }
      ]
    },
    {
      "cell_type": "code",
      "source": [
        "my_tuple = (1, 'apple', 3.14 , False)\n",
        "print(\"Original Tuple:\", my_tuple)\n",
        "print(\"First element:\", my_tuple[0])\n",
        "print(\"Last element:\", my_tuple[-1])"
      ],
      "metadata": {
        "colab": {
          "base_uri": "https://localhost:8080/"
        },
        "id": "HWYSavd5INX9",
        "outputId": "5115e29f-eddc-48cf-9a77-99455e4df6b8"
      },
      "execution_count": null,
      "outputs": [
        {
          "output_type": "stream",
          "name": "stdout",
          "text": [
            "Original Tuple: (1, 'apple', 3.14, False)\n",
            "First element: 1\n",
            "Last element: False\n"
          ]
        }
      ]
    },
    {
      "cell_type": "code",
      "source": [
        "i = 1\n",
        "while i <=5:\n",
        "  print(i)\n",
        "  i += 1"
      ],
      "metadata": {
        "colab": {
          "base_uri": "https://localhost:8080/"
        },
        "id": "7YBtolRDISkT",
        "outputId": "2af64ffd-8684-4716-99e6-10b6cd0c0d1c"
      },
      "execution_count": null,
      "outputs": [
        {
          "output_type": "stream",
          "name": "stdout",
          "text": [
            "1\n",
            "2\n",
            "3\n",
            "4\n",
            "5\n"
          ]
        }
      ]
    },
    {
      "cell_type": "code",
      "source": [
        "number = int(input(\"Enter a number: \"))\n",
        "if number > 0:\n",
        "  print(\"The number is positive.\")\n",
        "elif number < 0:\n",
        "  print(\"The number is negative.\")\n",
        "else:\n",
        "  print(\"The number is zero.\")"
      ],
      "metadata": {
        "colab": {
          "base_uri": "https://localhost:8080/"
        },
        "id": "9J5JdG36I6vf",
        "outputId": "e77d08e0-f59b-445e-8856-41dd97629768"
      },
      "execution_count": null,
      "outputs": [
        {
          "output_type": "stream",
          "name": "stdout",
          "text": [
            "Enter a number: 5\n",
            "The number is positive.\n"
          ]
        }
      ]
    },
    {
      "cell_type": "code",
      "source": [
        "!pip install speechrecognition pyttsx3 transformers nltk\n"
      ],
      "metadata": {
        "colab": {
          "base_uri": "https://localhost:8080/"
        },
        "id": "3dMHftrVJW-U",
        "outputId": "c493e6fd-7ca5-4d99-ff38-328f57acad21"
      },
      "execution_count": null,
      "outputs": [
        {
          "output_type": "stream",
          "name": "stdout",
          "text": [
            "Collecting speechrecognition\n",
            "  Downloading SpeechRecognition-3.13.0-py3-none-any.whl.metadata (30 kB)\n",
            "Collecting pyttsx3\n",
            "  Downloading pyttsx3-2.98-py3-none-any.whl.metadata (3.8 kB)\n",
            "Requirement already satisfied: transformers in /usr/local/lib/python3.10/dist-packages (4.47.1)\n",
            "Requirement already satisfied: nltk in /usr/local/lib/python3.10/dist-packages (3.9.1)\n",
            "Requirement already satisfied: typing-extensions in /usr/local/lib/python3.10/dist-packages (from speechrecognition) (4.12.2)\n",
            "Requirement already satisfied: filelock in /usr/local/lib/python3.10/dist-packages (from transformers) (3.16.1)\n",
            "Requirement already satisfied: huggingface-hub<1.0,>=0.24.0 in /usr/local/lib/python3.10/dist-packages (from transformers) (0.27.0)\n",
            "Requirement already satisfied: numpy>=1.17 in /usr/local/lib/python3.10/dist-packages (from transformers) (1.26.4)\n",
            "Requirement already satisfied: packaging>=20.0 in /usr/local/lib/python3.10/dist-packages (from transformers) (24.2)\n",
            "Requirement already satisfied: pyyaml>=5.1 in /usr/local/lib/python3.10/dist-packages (from transformers) (6.0.2)\n",
            "Requirement already satisfied: regex!=2019.12.17 in /usr/local/lib/python3.10/dist-packages (from transformers) (2024.11.6)\n",
            "Requirement already satisfied: requests in /usr/local/lib/python3.10/dist-packages (from transformers) (2.32.3)\n",
            "Requirement already satisfied: tokenizers<0.22,>=0.21 in /usr/local/lib/python3.10/dist-packages (from transformers) (0.21.0)\n",
            "Requirement already satisfied: safetensors>=0.4.1 in /usr/local/lib/python3.10/dist-packages (from transformers) (0.4.5)\n",
            "Requirement already satisfied: tqdm>=4.27 in /usr/local/lib/python3.10/dist-packages (from transformers) (4.67.1)\n",
            "Requirement already satisfied: click in /usr/local/lib/python3.10/dist-packages (from nltk) (8.1.7)\n",
            "Requirement already satisfied: joblib in /usr/local/lib/python3.10/dist-packages (from nltk) (1.4.2)\n",
            "Requirement already satisfied: fsspec>=2023.5.0 in /usr/local/lib/python3.10/dist-packages (from huggingface-hub<1.0,>=0.24.0->transformers) (2024.10.0)\n",
            "Requirement already satisfied: charset-normalizer<4,>=2 in /usr/local/lib/python3.10/dist-packages (from requests->transformers) (3.4.0)\n",
            "Requirement already satisfied: idna<4,>=2.5 in /usr/local/lib/python3.10/dist-packages (from requests->transformers) (3.10)\n",
            "Requirement already satisfied: urllib3<3,>=1.21.1 in /usr/local/lib/python3.10/dist-packages (from requests->transformers) (2.2.3)\n",
            "Requirement already satisfied: certifi>=2017.4.17 in /usr/local/lib/python3.10/dist-packages (from requests->transformers) (2024.12.14)\n",
            "Downloading SpeechRecognition-3.13.0-py3-none-any.whl (32.8 MB)\n",
            "\u001b[2K   \u001b[90m━━━━━━━━━━━━━━━━━━━━━━━━━━━━━━━━━━━━━━━━\u001b[0m \u001b[32m32.8/32.8 MB\u001b[0m \u001b[31m55.6 MB/s\u001b[0m eta \u001b[36m0:00:00\u001b[0m\n",
            "\u001b[?25hDownloading pyttsx3-2.98-py3-none-any.whl (34 kB)\n",
            "Installing collected packages: pyttsx3, speechrecognition\n",
            "Successfully installed pyttsx3-2.98 speechrecognition-3.13.0\n"
          ]
        }
      ]
    },
    {
      "cell_type": "code",
      "source": [
        "def greet(name):\n",
        "  print(f\"Hello, {name}! How are you today?\")\n",
        "greet(\"Alice\")"
      ],
      "metadata": {
        "colab": {
          "base_uri": "https://localhost:8080/"
        },
        "id": "37VyHd4XO5cM",
        "outputId": "9af9ae0a-e281-4a4d-ff07-06fb90b4d1c0"
      },
      "execution_count": null,
      "outputs": [
        {
          "output_type": "stream",
          "name": "stdout",
          "text": [
            "Hello, Alice! How are you today?\n"
          ]
        }
      ]
    },
    {
      "cell_type": "code",
      "source": [
        "greet(\"Ricky\")"
      ],
      "metadata": {
        "colab": {
          "base_uri": "https://localhost:8080/"
        },
        "id": "N_4J25daQJIP",
        "outputId": "b2b72849-4971-4868-cbe1-350b43c6429f"
      },
      "execution_count": null,
      "outputs": [
        {
          "output_type": "stream",
          "name": "stdout",
          "text": [
            "Hello, Ricky! How are you today?\n"
          ]
        }
      ]
    },
    {
      "cell_type": "code",
      "source": [
        "def greet(name):\n",
        "\n",
        "  print(f\"Hello, {name}! How are you today?\")\n",
        "greet(\"CM PUNK\")"
      ],
      "metadata": {
        "colab": {
          "base_uri": "https://localhost:8080/"
        },
        "id": "ToIPAcBc4wLy",
        "outputId": "46d867b3-71b1-4210-ecd6-4cb43ee5386c"
      },
      "execution_count": null,
      "outputs": [
        {
          "output_type": "stream",
          "name": "stdout",
          "text": [
            "Hello, CM PUNK! How are you today?\n"
          ]
        }
      ]
    },
    {
      "cell_type": "code",
      "source": [
        "print(dir(str))"
      ],
      "metadata": {
        "colab": {
          "base_uri": "https://localhost:8080/"
        },
        "id": "_Zgt044j6e12",
        "outputId": "d82bce29-f640-475e-d7c8-7d5e71abab07"
      },
      "execution_count": null,
      "outputs": [
        {
          "output_type": "stream",
          "name": "stdout",
          "text": [
            "['__add__', '__class__', '__contains__', '__delattr__', '__dir__', '__doc__', '__eq__', '__format__', '__ge__', '__getattribute__', '__getitem__', '__getnewargs__', '__gt__', '__hash__', '__init__', '__init_subclass__', '__iter__', '__le__', '__len__', '__lt__', '__mod__', '__mul__', '__ne__', '__new__', '__reduce__', '__reduce_ex__', '__repr__', '__rmod__', '__rmul__', '__setattr__', '__sizeof__', '__str__', '__subclasshook__', 'capitalize', 'casefold', 'center', 'count', 'encode', 'endswith', 'expandtabs', 'find', 'format', 'format_map', 'index', 'isalnum', 'isalpha', 'isascii', 'isdecimal', 'isdigit', 'isidentifier', 'islower', 'isnumeric', 'isprintable', 'isspace', 'istitle', 'isupper', 'join', 'ljust', 'lower', 'lstrip', 'maketrans', 'partition', 'removeprefix', 'removesuffix', 'replace', 'rfind', 'rindex', 'rjust', 'rpartition', 'rsplit', 'rstrip', 'split', 'splitlines', 'startswith', 'strip', 'swapcase', 'title', 'translate', 'upper', 'zfill']\n"
          ]
        }
      ]
    },
    {
      "cell_type": "code",
      "source": [
        "a = \"cm punk is the greatest of all time.period.\"\n",
        "b = a.upper()\n",
        "print(b)"
      ],
      "metadata": {
        "colab": {
          "base_uri": "https://localhost:8080/"
        },
        "id": "X9T5eQtg631E",
        "outputId": "dff5c94d-f180-406e-d32a-543727dbc8fc"
      },
      "execution_count": null,
      "outputs": [
        {
          "output_type": "stream",
          "name": "stdout",
          "text": [
            "CM PUNK IS THE GREATEST OF ALL TIME.PERIOD.\n"
          ]
        }
      ]
    },
    {
      "cell_type": "code",
      "source": [
        "a = \"CM PUNK is THE GREATEST OF ALL TIME.period.\"\n",
        "b = a.swapcase()\n",
        "print(b)"
      ],
      "metadata": {
        "colab": {
          "base_uri": "https://localhost:8080/"
        },
        "id": "L_stXuV-7iDI",
        "outputId": "ffeff50a-f18e-4424-dd47-c784509a7206"
      },
      "execution_count": null,
      "outputs": [
        {
          "output_type": "stream",
          "name": "stdout",
          "text": [
            "cm punk IS the greatest of all time.PERIOD.\n"
          ]
        }
      ]
    },
    {
      "cell_type": "code",
      "source": [
        "a = \"Usama bin-laden\"\n",
        "b = a.title()\n",
        "print(b)"
      ],
      "metadata": {
        "colab": {
          "base_uri": "https://localhost:8080/"
        },
        "id": "TpTkRXaW7yNx",
        "outputId": "5ede794f-b17b-40a1-cc78-645d65d20c69"
      },
      "execution_count": null,
      "outputs": [
        {
          "output_type": "stream",
          "name": "stdout",
          "text": [
            "Usama Bin-Laden\n"
          ]
        }
      ]
    },
    {
      "cell_type": "code",
      "source": [
        "a = \"Hulk Hogan\"\n",
        "b = a.replace(\"Hulk\",\"Thor\")\n",
        "print(b)"
      ],
      "metadata": {
        "colab": {
          "base_uri": "https://localhost:8080/"
        },
        "id": "m09vTbC68EAQ",
        "outputId": "820a55d3-9c47-4e07-8f2b-fae1665619aa"
      },
      "execution_count": null,
      "outputs": [
        {
          "output_type": "stream",
          "name": "stdout",
          "text": [
            "Thor Hogan\n"
          ]
        }
      ]
    },
    {
      "cell_type": "code",
      "source": [
        "a = \"1111ss\"\n",
        "b = a.isdigit()\n",
        "print(b)"
      ],
      "metadata": {
        "colab": {
          "base_uri": "https://localhost:8080/"
        },
        "id": "aBu2OZ7J9FLR",
        "outputId": "857cb99b-5632-41ce-bf22-dafc4348b760"
      },
      "execution_count": null,
      "outputs": [
        {
          "output_type": "stream",
          "name": "stdout",
          "text": [
            "False\n"
          ]
        }
      ]
    },
    {
      "cell_type": "code",
      "source": [
        "a = range(14)\n",
        "b = list(a)\n",
        "print(b)"
      ],
      "metadata": {
        "colab": {
          "base_uri": "https://localhost:8080/"
        },
        "id": "XM0HBMyV9iuQ",
        "outputId": "d319e86e-bcda-4cf3-8673-f75d35224872"
      },
      "execution_count": null,
      "outputs": [
        {
          "output_type": "stream",
          "name": "stdout",
          "text": [
            "[0, 1, 2, 3, 4, 5, 6, 7, 8, 9, 10, 11, 12, 13]\n"
          ]
        }
      ]
    },
    {
      "cell_type": "code",
      "source": [
        "my_list = list(range(25,42,2))\n",
        "print(my_list)"
      ],
      "metadata": {
        "colab": {
          "base_uri": "https://localhost:8080/"
        },
        "id": "M6irBWqP9_02",
        "outputId": "4146b90d-44f5-4945-aa1c-53ca73a15786"
      },
      "execution_count": null,
      "outputs": [
        {
          "output_type": "stream",
          "name": "stdout",
          "text": [
            "[25, 27, 29, 31, 33, 35, 37, 39, 41]\n"
          ]
        }
      ]
    },
    {
      "cell_type": "code",
      "source": [
        "def add_numbers(a,b):\n",
        "  result = a+b\n",
        "  return result\n",
        "print(add_numbers(5,7))"
      ],
      "metadata": {
        "colab": {
          "base_uri": "https://localhost:8080/"
        },
        "id": "Wv3BmqB_-QI1",
        "outputId": "c42cf2cc-c107-406f-9786-93352b06ae15"
      },
      "execution_count": null,
      "outputs": [
        {
          "output_type": "stream",
          "name": "stdout",
          "text": [
            "12\n"
          ]
        }
      ]
    },
    {
      "cell_type": "code",
      "source": [
        "def greet(name, greeting=\"Namasthe!\"):\n",
        "  print(f\"{greeting}, {name}!\")\n",
        "  greet(\"Jonathan\")"
      ],
      "metadata": {
        "id": "nJ_WD2da_64g"
      },
      "execution_count": null,
      "outputs": []
    },
    {
      "cell_type": "code",
      "source": [
        "def calculate_sum(*args):\n",
        "  total = sum(args)\n",
        "  return total\n",
        "print(\"Sum of 1,4,4:\", calculate_sum(1,4,4))\n",
        "print(\"Sum of 2,5,10,3:\", calculate_sum(2,5,10,3))"
      ],
      "metadata": {
        "colab": {
          "base_uri": "https://localhost:8080/"
        },
        "id": "165FSOSQA2CT",
        "outputId": "5920d31e-b584-4565-c39c-4edaa71b6f0d"
      },
      "execution_count": null,
      "outputs": [
        {
          "output_type": "stream",
          "name": "stdout",
          "text": [
            "Sum of 1,4,4: 9\n",
            "Sum of 2,5,10,3: 20\n"
          ]
        }
      ]
    },
    {
      "cell_type": "code",
      "source": [
        "correct_username = 'Ricky'\n",
        "correct_password = '142504'\n",
        "while True:\n",
        "  username = input(\"Enter the username to the heaven: \")\n",
        "  password = input(\"Enter the key of your life: \")\n",
        "  if username == correct_username and password == correct_password:\n",
        "    print(\"You've successfully logged into the dark world!\")\n",
        "    break\n",
        "  else:\n",
        "    print(\"Kid! You're Unfit here, Go get a life!\")"
      ],
      "metadata": {
        "colab": {
          "base_uri": "https://localhost:8080/"
        },
        "id": "hUY4ZI9NB8Zu",
        "outputId": "2ce025dd-8876-4fe7-e098-3c2c18c4adc2"
      },
      "execution_count": null,
      "outputs": [
        {
          "output_type": "stream",
          "name": "stdout",
          "text": [
            "Enter the username to the heaven: Ricky\n",
            "Enter the key of your life: 142504\n",
            "You've successfully logged into the dark world!\n"
          ]
        }
      ]
    },
    {
      "cell_type": "code",
      "source": [
        "z = '145bbb'\n",
        "y = z.isalpha()\n",
        "print(y)"
      ],
      "metadata": {
        "colab": {
          "base_uri": "https://localhost:8080/"
        },
        "id": "DrXnr7pNE6Bw",
        "outputId": "df9bfee7-1908-4c2f-9104-199c50da13f9"
      },
      "execution_count": null,
      "outputs": [
        {
          "output_type": "stream",
          "name": "stdout",
          "text": [
            "False\n"
          ]
        }
      ]
    },
    {
      "cell_type": "code",
      "source": [
        "my_list = [3, 1, 4, 1, 5, 9, 2, 6]\n",
        "sorted_list = sorted(my_list)\n",
        "print(\"Original list:\", my_list)\n",
        "print(\"Sorted list:\", sorted_list)"
      ],
      "metadata": {
        "colab": {
          "base_uri": "https://localhost:8080/"
        },
        "id": "izF3OU1OFmaP",
        "outputId": "7b84c243-c6b2-47e8-df37-eb96a8a472c7"
      },
      "execution_count": null,
      "outputs": [
        {
          "output_type": "stream",
          "name": "stdout",
          "text": [
            "Original list: [3, 1, 4, 1, 5, 9, 2, 6]\n",
            "Sorted list: [1, 1, 2, 3, 4, 5, 6, 9]\n"
          ]
        }
      ]
    },
    {
      "cell_type": "code",
      "source": [
        "print(dir(int))"
      ],
      "metadata": {
        "colab": {
          "base_uri": "https://localhost:8080/"
        },
        "id": "X0LSgpyGFq9-",
        "outputId": "0e319afd-2c37-45ea-8ed3-227cb0462bbc"
      },
      "execution_count": null,
      "outputs": [
        {
          "output_type": "stream",
          "name": "stdout",
          "text": [
            "['__abs__', '__add__', '__and__', '__bool__', '__ceil__', '__class__', '__delattr__', '__dir__', '__divmod__', '__doc__', '__eq__', '__float__', '__floor__', '__floordiv__', '__format__', '__ge__', '__getattribute__', '__getnewargs__', '__gt__', '__hash__', '__index__', '__init__', '__init_subclass__', '__int__', '__invert__', '__le__', '__lshift__', '__lt__', '__mod__', '__mul__', '__ne__', '__neg__', '__new__', '__or__', '__pos__', '__pow__', '__radd__', '__rand__', '__rdivmod__', '__reduce__', '__reduce_ex__', '__repr__', '__rfloordiv__', '__rlshift__', '__rmod__', '__rmul__', '__ror__', '__round__', '__rpow__', '__rrshift__', '__rshift__', '__rsub__', '__rtruediv__', '__rxor__', '__setattr__', '__sizeof__', '__str__', '__sub__', '__subclasshook__', '__truediv__', '__trunc__', '__xor__', 'as_integer_ratio', 'bit_count', 'bit_length', 'conjugate', 'denominator', 'from_bytes', 'imag', 'numerator', 'real', 'to_bytes']\n"
          ]
        }
      ]
    },
    {
      "source": [
        "class Person:\n",
        "    def __init__(self, name, age):\n",
        "        self.name = name\n",
        "        self.age = age\n",
        "\n",
        "    def introduce(self):\n",
        "        print(f\"Hi, This is {self.name} your greek god.Bow Down. He looks 10 but he's   {self.age} years old.\")\n",
        "Person1 = Person(\"Mahesh Bob\", 16)\n",
        "Person1.introduce()"
      ],
      "cell_type": "code",
      "metadata": {
        "colab": {
          "base_uri": "https://localhost:8080/"
        },
        "id": "Ei9zJ9JgGvyT",
        "outputId": "a7fbd9e4-7047-4e4d-e07b-990bee70f0fa"
      },
      "execution_count": null,
      "outputs": [
        {
          "output_type": "stream",
          "name": "stdout",
          "text": [
            "Hi, This is Mahesh Bob your greek god.Bow Down. He looks 10 but he's 16 years old.\n"
          ]
        }
      ]
    },
    {
      "source": [
        "def sum_of_even_numbers(n):\n",
        "  total = 0\n",
        "  for i in range(2, n + 1, 2):\n",
        "    total += i\n",
        "  return total\n",
        "n = int(input(\"Enter a positive integer: \"))\n",
        "sum_even = sum_of_even_numbers(n)\n",
        "print(\"The sum of even numbers between 1 and\", n, \"is:\", sum_even)"
      ],
      "cell_type": "code",
      "metadata": {
        "colab": {
          "base_uri": "https://localhost:8080/"
        },
        "id": "nkAf4mv0IlOJ",
        "outputId": "be619a8b-78d4-4455-b696-eb863f07f777"
      },
      "execution_count": null,
      "outputs": [
        {
          "output_type": "stream",
          "name": "stdout",
          "text": [
            "Enter a positive integer: 5\n",
            "The sum of even numbers between 1 and 5 is: 6\n"
          ]
        }
      ]
    }
  ]
}