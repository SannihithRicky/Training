{
  "nbformat": 4,
  "nbformat_minor": 0,
  "metadata": {
    "colab": {
      "provenance": [],
      "gpuType": "T4",
      "authorship_tag": "ABX9TyNuS+GXMewFUDHto7Ea1DO0",
      "include_colab_link": true
    },
    "kernelspec": {
      "name": "python3",
      "display_name": "Python 3"
    },
    "language_info": {
      "name": "python"
    },
    "accelerator": "GPU"
  },
  "cells": [
    {
      "cell_type": "markdown",
      "metadata": {
        "id": "view-in-github",
        "colab_type": "text"
      },
      "source": [
        "<a href=\"https://colab.research.google.com/github/SannihithRicky/Training/blob/main/Operators.ipynb\" target=\"_parent\"><img src=\"https://colab.research.google.com/assets/colab-badge.svg\" alt=\"Open In Colab\"/></a>"
      ]
    },
    {
      "cell_type": "code",
      "source": [
        "x, y = 10, 20\n",
        "\n",
        "\n",
        "print(\"addition\",x + y)                 #addition\n",
        "print(\"subtraction\",x - y)              #subtraction(-)\n",
        "print(\"multiplication\",x * y)           #multiplication(*)\n",
        "print(\"division\",25/3)                  #division(/)\n",
        "print(\"modulous\",y%x)                   #modulo division (%)\n",
        "print(\"floor division\", 20//3)           #Floor Division (//)\n",
        "print(\"floor division\", -20//3)\n",
        "print(\"exponent\", 2**3)"
      ],
      "metadata": {
        "colab": {
          "base_uri": "https://localhost:8080/"
        },
        "id": "P6cFWhF1WgTh",
        "outputId": "1803c6a4-e80d-4531-993f-24d0dc100570"
      },
      "execution_count": 1,
      "outputs": [
        {
          "output_type": "stream",
          "name": "stdout",
          "text": [
            "addition 30\n",
            "subtraction -10\n",
            "multiplication 200\n",
            "division 8.333333333333334\n",
            "modulous 0\n",
            "floor division 6\n",
            "floor division -7\n",
            "exponent 8\n"
          ]
        }
      ]
    },
    {
      "cell_type": "code",
      "source": [
        "a, b = 10, 20        # operator                            output\n",
        "\n",
        "print(a < b)    # a is less than b                           true\n",
        "\n",
        "print(a > b)    #a  is greater than b                      false\n",
        "\n",
        "print(a == b)   #a is equal to b                           false\n",
        "\n",
        "print(a != b)   #a is not equal to b (!=)                  True\n",
        "\n",
        "print(a >=b )   # a greater than or equal to b              false\n",
        "\n",
        "print(a<=b)     #a less than or equal to b"
      ],
      "metadata": {
        "colab": {
          "base_uri": "https://localhost:8080/"
        },
        "id": "auKxesMtg11c",
        "outputId": "057bf05b-ce30-41dc-eb1b-4317fad0f6ff"
      },
      "execution_count": 2,
      "outputs": [
        {
          "output_type": "stream",
          "name": "stdout",
          "text": [
            "True\n",
            "False\n",
            "False\n",
            "True\n",
            "False\n",
            "True\n"
          ]
        }
      ]
    },
    {
      "cell_type": "code",
      "source": [
        "a, b = True, False\n",
        "#and  --- Logical operator AND returns True only if both the operands are True else it returns False.\n",
        "#It is a binary operator, which means to return some value, it has to be operated between two operators\n",
        "print(\"a and b\",a and b)\n",
        "\n",
        "#OR --- The logical operator OR returns False only if both the operands are False else it returns True.\n",
        "print(\"a or b\", a or b)\n",
        "# not ----\n",
        "print(\"not b\", not b)\n",
        "print(\"not a\", not a)"
      ],
      "metadata": {
        "colab": {
          "base_uri": "https://localhost:8080/"
        },
        "id": "rihaDDYTg5dm",
        "outputId": "acc3a2e4-3ce4-4fc8-edce-37433ecd809d"
      },
      "execution_count": 3,
      "outputs": [
        {
          "output_type": "stream",
          "name": "stdout",
          "text": [
            "a and b False\n",
            "a or b True\n",
            "not b True\n",
            "not a False\n"
          ]
        }
      ]
    },
    {
      "cell_type": "code",
      "source": [
        "a, b,c = 10, 4,6\n",
        "\n",
        "#Bitwise AND\n",
        "#print(\"bit wise and \")\n",
        "print(\"a & b\",a & b) #1010 & 0100\n",
        "print(\"c & b\",c & b) #0110 & 0100\n",
        "\n",
        "#Bitwise OR\n",
        "#print(\"bit wise or\")\n",
        "print(\"b |c-------\",b | c)\n",
        "print(\"a|b---------\",a|b)\n",
        "\n",
        "#Bitwise NOT\n",
        "print(\"a and ~a -----------\",a,~a)\n",
        "#a is 1010 can written as 0000 1010  --> 1s complement 1111 0101 --> 2s complement -->1111 0110\n",
        "\n",
        "#Bitwise XOR   --> Returns 1 if one of the bits is 1 and the other is 0 else returns false.\n",
        "print(\"a ^ b --------\", a ^b)\n",
        "\n",
        "#Bitwise rightshift   --> Shifts the bits of the number to the right and fills 0 on voids left\n",
        "#( fills 1 in the case of a negative number) as a result.\n",
        "#Similar effect as of dividing the number with some power of two.\n",
        "\n",
        "print(\"right shift of 10 by 1-----\",a>>1)\n",
        "#Bitwise Leftshift\n",
        "print(\"left shift of 10 by 1-----\",a<<1)"
      ],
      "metadata": {
        "colab": {
          "base_uri": "https://localhost:8080/"
        },
        "id": "78G_ssJeg70R",
        "outputId": "dfab2ee7-ab1a-4e9e-b5a1-95877c47d27d"
      },
      "execution_count": 4,
      "outputs": [
        {
          "output_type": "stream",
          "name": "stdout",
          "text": [
            "a & b 0\n",
            "c & b 4\n",
            "b |c------- 6\n",
            "a|b--------- 14\n",
            "a and ~a ----------- 10 -11\n",
            "a ^ b -------- 14\n",
            "right shift of 10 by 1----- 5\n",
            "left shift of 10 by 1----- 20\n"
          ]
        }
      ]
    },
    {
      "cell_type": "code",
      "source": [
        "a = 10\n",
        "\n",
        "a+=10         #short end notation of a=a+10\n",
        "print(\"a+=10 value---\",a)\n",
        "\n",
        "#subtract AND (-=)\n",
        "a = 10\n",
        "a-=10   # shotend notation of a=a-10\n",
        "print(\"a-=10 value---\",a)\n",
        "#Multiply AND (*=)\n",
        "a = 10\n",
        "a*=10   # shotend notation of a=a*10\n",
        "print(\"a*=10 value---\",a)\n",
        "#Divide AND (/=)\n",
        "a = 10\n",
        "a/=10   # shotend notation of a=a/10\n",
        "print(\"a/=10 value---\",a)\n",
        "#Modulus AND (%=)\n",
        "a = 10\n",
        "a%=10   # shotend notation of a=a%10\n",
        "print(\"a%=10 value---\",a)\n",
        "#Floor Division (//=)\n",
        "a = 10\n",
        "a//=10   # shotend notation of a=a//10\n",
        "print(\"a//=10 value---\",a)\n",
        "#Exponent AND (**=)\n",
        "a = 10\n",
        "a**=10   # shotend notation of a=a**10\n",
        "print(\"a**=10 value---\",a)"
      ],
      "metadata": {
        "colab": {
          "base_uri": "https://localhost:8080/"
        },
        "id": "qsGqFUMehAbj",
        "outputId": "387d2735-4dfa-4750-8f74-a492d3991840"
      },
      "execution_count": 5,
      "outputs": [
        {
          "output_type": "stream",
          "name": "stdout",
          "text": [
            "a+=10 value--- 20\n",
            "a-=10 value--- 0\n",
            "a*=10 value--- 100\n",
            "a/=10 value--- 1.0\n",
            "a%=10 value--- 0\n",
            "a//=10 value--- 1\n",
            "a**=10 value--- 10000000000\n"
          ]
        }
      ]
    },
    {
      "cell_type": "code",
      "source": [
        "a = 5\n",
        "b = 5\n",
        "c = 6\n",
        "print(a is b)    #5 is object created once both a and b points to same object\n",
        "#if id(a) equals id(b) result is True\n",
        "print(id(a),id(b),id(6))\n",
        "#isnot\n",
        "print( c is not b)\n",
        "print( a is not b)"
      ],
      "metadata": {
        "colab": {
          "base_uri": "https://localhost:8080/"
        },
        "id": "3ughN7J2hDpm",
        "outputId": "8dcceb32-fd0b-4010-8216-0e0f48f5318f"
      },
      "execution_count": 6,
      "outputs": [
        {
          "output_type": "stream",
          "name": "stdout",
          "text": [
            "True\n",
            "10750984 10750984 10751016\n",
            "True\n",
            "False\n"
          ]
        }
      ]
    },
    {
      "cell_type": "code",
      "source": [
        "l1 = [1, 2, 3]\n",
        "l2 = [1, 2, 3]\n",
        "print(l1 is l2)"
      ],
      "metadata": {
        "colab": {
          "base_uri": "https://localhost:8080/"
        },
        "id": "yILPw2zThGcg",
        "outputId": "c228a395-9dbb-41ca-c0eb-7d9ee7e916e6"
      },
      "execution_count": 7,
      "outputs": [
        {
          "output_type": "stream",
          "name": "stdout",
          "text": [
            "False\n"
          ]
        }
      ]
    },
    {
      "cell_type": "code",
      "source": [
        "s1 = \"Buddha\"\n",
        "s2 = \"buddha\"\n",
        "print(s1 is not s2)"
      ],
      "metadata": {
        "colab": {
          "base_uri": "https://localhost:8080/"
        },
        "id": "MC4h-93ohH_L",
        "outputId": "d2ad665e-99b6-479e-9aa6-03898c40496f"
      },
      "execution_count": 8,
      "outputs": [
        {
          "output_type": "stream",
          "name": "stdout",
          "text": [
            "True\n"
          ]
        }
      ]
    },
    {
      "cell_type": "code",
      "source": [
        "lst = [1, 2, 3, 4]\n",
        "print(1 in lst)       # 1 is present in a given list or not\n",
        "print(2 in lst)\n",
        "print(5 in lst)"
      ],
      "metadata": {
        "colab": {
          "base_uri": "https://localhost:8080/"
        },
        "id": "36nO4NImhJwo",
        "outputId": "6c43f2ed-94c4-4701-d4ea-67e6887bd582"
      },
      "execution_count": 9,
      "outputs": [
        {
          "output_type": "stream",
          "name": "stdout",
          "text": [
            "True\n",
            "True\n",
            "False\n"
          ]
        }
      ]
    },
    {
      "cell_type": "code",
      "source": [
        "d = {1: \"a\", 2: \"b\"}\n",
        "print(1 in d)"
      ],
      "metadata": {
        "colab": {
          "base_uri": "https://localhost:8080/"
        },
        "id": "ih878LkkhL31",
        "outputId": "50f4a154-bcac-48fd-8069-ff84f331b8b6"
      },
      "execution_count": 10,
      "outputs": [
        {
          "output_type": "stream",
          "name": "stdout",
          "text": [
            "True\n"
          ]
        }
      ]
    },
    {
      "cell_type": "code",
      "source": [
        "print(3 in d)"
      ],
      "metadata": {
        "colab": {
          "base_uri": "https://localhost:8080/"
        },
        "id": "eCndSsVQhOkk",
        "outputId": "35ed5434-b2b6-423d-94d0-962e44dfe9d2"
      },
      "execution_count": 11,
      "outputs": [
        {
          "output_type": "stream",
          "name": "stdout",
          "text": [
            "False\n"
          ]
        }
      ]
    },
    {
      "cell_type": "code",
      "source": [],
      "metadata": {
        "id": "lY2cq5jDhP9I"
      },
      "execution_count": null,
      "outputs": []
    }
  ]
}